{
 "cells": [
  {
   "cell_type": "code",
   "execution_count": 1,
   "id": "b3ba4048-4ca8-49ec-a077-a9eb2d32299d",
   "metadata": {},
   "outputs": [
    {
     "data": {
      "text/plain": [
       "52"
      ]
     },
     "execution_count": 1,
     "metadata": {},
     "output_type": "execute_result"
    }
   ],
   "source": [
    "46+6\n"
   ]
  },
  {
   "cell_type": "code",
   "execution_count": 2,
   "id": "8c236780-75f5-4dd2-a93f-13f03fd8aa24",
   "metadata": {},
   "outputs": [
    {
     "name": "stdout",
     "output_type": "stream",
     "text": [
      "50\n"
     ]
    }
   ],
   "source": [
    "print(45+5)"
   ]
  },
  {
   "cell_type": "code",
   "execution_count": 3,
   "id": "e31cd5c1-83c5-40fb-8ef3-fe4439a19e95",
   "metadata": {},
   "outputs": [
    {
     "name": "stdout",
     "output_type": "stream",
     "text": [
      "sum of two number like 5 and 6 is 11\n"
     ]
    }
   ],
   "source": [
    "print(\"sum of two number like 5 and 6 is\",5+6)"
   ]
  },
  {
   "cell_type": "code",
   "execution_count": 4,
   "id": "3e23854e-236e-46cb-a896-39f2536a267b",
   "metadata": {},
   "outputs": [
    {
     "name": "stdout",
     "output_type": "stream",
     "text": [
      "sum of 4 and 8 is 12\n"
     ]
    }
   ],
   "source": [
    "print(\"sum of {} and {} is {}\".format(4,8,8+4))"
   ]
  },
  {
   "cell_type": "code",
   "execution_count": 8,
   "id": "56f4e5df-458d-4732-8fd4-872c7d86c361",
   "metadata": {},
   "outputs": [
    {
     "name": "stdout",
     "output_type": "stream",
     "text": [
      "square root of 4 is 16\n"
     ]
    }
   ],
   "source": [
    "print(\"square root of {} is {}\".format(4,4**2))"
   ]
  },
  {
   "cell_type": "code",
   "execution_count": 9,
   "id": "d8ee8e44-8443-4f2c-9497-329a343f83e4",
   "metadata": {},
   "outputs": [
    {
     "name": "stdout",
     "output_type": "stream",
     "text": [
      "cube of 4 is 64\n"
     ]
    }
   ],
   "source": [
    "print(\"cube of {} is {}\".format(4,4**3))"
   ]
  },
  {
   "cell_type": "code",
   "execution_count": 11,
   "id": "34c20a7d-8ffc-49e0-af66-d123b117a5ba",
   "metadata": {},
   "outputs": [
    {
     "data": {
      "text/plain": [
       "6.468"
      ]
     },
     "execution_count": 11,
     "metadata": {},
     "output_type": "execute_result"
    }
   ],
   "source": [
    "round(6.467876645463,3)"
   ]
  },
  {
   "cell_type": "code",
   "execution_count": 12,
   "id": "2e59b6b9-d2c7-4929-8f46-7023eff264a3",
   "metadata": {},
   "outputs": [
    {
     "name": "stdout",
     "output_type": "stream",
     "text": [
      "square root of 4 is 2.0\n"
     ]
    }
   ],
   "source": [
    "print(\"square root of {} is {}\".format(4,4**(1/2),2))"
   ]
  },
  {
   "cell_type": "code",
   "execution_count": 15,
   "id": "c939dd85-e9f5-449d-a682-6b3eb23cf81c",
   "metadata": {},
   "outputs": [
    {
     "name": "stdout",
     "output_type": "stream",
     "text": [
      "cube of 45 is 3.5568933044900626\n"
     ]
    }
   ],
   "source": [
    "print(\"cube of {} is {}\".format(45,45**(1/3)))\n"
   ]
  },
  {
   "cell_type": "code",
   "execution_count": 16,
   "id": "f084eede-f77b-4f0b-ae6e-2073d67297eb",
   "metadata": {},
   "outputs": [
    {
     "name": "stdout",
     "output_type": "stream",
     "text": [
      "1 hours and 1 min\n"
     ]
    }
   ],
   "source": [
    "print(\"{} hours and {} min\".format(61//61,61%60))"
   ]
  },
  {
   "cell_type": "code",
   "execution_count": 17,
   "id": "cb24b83c-8002-4d50-8ea0-e4fb73368373",
   "metadata": {},
   "outputs": [],
   "source": [
    "a=155689\n"
   ]
  },
  {
   "cell_type": "code",
   "execution_count": 20,
   "id": "e04a0d47-1121-466a-b7ca-d3683adf5370",
   "metadata": {},
   "outputs": [
    {
     "name": "stdout",
     "output_type": "stream",
     "text": [
      "2594 hours and 49 min\n"
     ]
    }
   ],
   "source": [
    "print(\"{} hours and {} min\".format(a//60,a%60))"
   ]
  },
  {
   "cell_type": "code",
   "execution_count": 22,
   "id": "8b41f3fa-4575-4c04-8d0a-21c316b5fc0f",
   "metadata": {},
   "outputs": [
    {
     "name": "stdout",
     "output_type": "stream",
     "text": [
      "Days\n"
     ]
    },
    {
     "data": {
      "text/plain": [
       "108"
      ]
     },
     "execution_count": 22,
     "metadata": {},
     "output_type": "execute_result"
    }
   ],
   "source": [
    "print(\"Days\")\n",
    "(155689//60)//24"
   ]
  },
  {
   "cell_type": "code",
   "execution_count": 23,
   "id": "386d0fca-8137-4bd8-a49e-c57783d070a8",
   "metadata": {},
   "outputs": [
    {
     "name": "stdout",
     "output_type": "stream",
     "text": [
      "minutes\n"
     ]
    },
    {
     "data": {
      "text/plain": [
       "49"
      ]
     },
     "execution_count": 23,
     "metadata": {},
     "output_type": "execute_result"
    }
   ],
   "source": [
    "print(\"minutes\")\n",
    "(155689%60)"
   ]
  },
  {
   "cell_type": "code",
   "execution_count": 25,
   "id": "a816fad7-e4b0-4d0a-b226-908eaa045b53",
   "metadata": {},
   "outputs": [
    {
     "data": {
      "text/plain": [
       "2"
      ]
     },
     "execution_count": 25,
     "metadata": {},
     "output_type": "execute_result"
    }
   ],
   "source": [
    "(155689//60)%24"
   ]
  },
  {
   "cell_type": "code",
   "execution_count": 26,
   "id": "09c09ffd-8148-4c5f-9c6c-03b50d673493",
   "metadata": {},
   "outputs": [
    {
     "name": "stdout",
     "output_type": "stream",
     "text": [
      "108 days 2 hours and 49 min\n"
     ]
    }
   ],
   "source": [
    "print(\"{} days {} hours and {} min\".format((155689//60)//24,(155689//60)%24,(155689%60)))"
   ]
  },
  {
   "cell_type": "code",
   "execution_count": 29,
   "id": "e04adaae-c512-4b05-8d75-12f84445f4c8",
   "metadata": {},
   "outputs": [
    {
     "data": {
      "text/plain": [
       "5"
      ]
     },
     "execution_count": 29,
     "metadata": {},
     "output_type": "execute_result"
    }
   ],
   "source": [
    "(7325//60)//24"
   ]
  },
  {
   "cell_type": "code",
   "execution_count": 30,
   "id": "ed3686af-52be-4942-be84-a89e03679174",
   "metadata": {},
   "outputs": [
    {
     "data": {
      "text/plain": [
       "2"
      ]
     },
     "execution_count": 30,
     "metadata": {},
     "output_type": "execute_result"
    }
   ],
   "source": [
    "(7325//60)%24"
   ]
  },
  {
   "cell_type": "code",
   "execution_count": 27,
   "id": "87d91058-ca61-41a3-a881-266e3e9caac7",
   "metadata": {},
   "outputs": [
    {
     "name": "stdout",
     "output_type": "stream",
     "text": [
      "5 days 2 hours and 5 min\n"
     ]
    }
   ],
   "source": [
    "print(\"{} days {} hours and {} min\".format((7325//60)//24,(7325//60)%24,(7325%60)))"
   ]
  },
  {
   "cell_type": "code",
   "execution_count": null,
   "id": "d4b1a655-b4e1-496e-b5f7-d8053e6cfce5",
   "metadata": {},
   "outputs": [],
   "source": [
    "a=1457986"
   ]
  },
  {
   "cell_type": "code",
   "execution_count": 39,
   "id": "5f314b03-895d-4fe0-b92a-eb2be684a3f4",
   "metadata": {},
   "outputs": [
    {
     "data": {
      "text/plain": [
       "24299"
      ]
     },
     "execution_count": 39,
     "metadata": {},
     "output_type": "execute_result"
    }
   ],
   "source": [
    "(1457986//60)"
   ]
  },
  {
   "cell_type": "code",
   "execution_count": 41,
   "id": "08b3fd34-4abb-4986-a112-749ca426a4d5",
   "metadata": {},
   "outputs": [
    {
     "data": {
      "text/plain": [
       "16"
      ]
     },
     "execution_count": 41,
     "metadata": {},
     "output_type": "execute_result"
    }
   ],
   "source": [
    "(24299//60)//24"
   ]
  },
  {
   "cell_type": "code",
   "execution_count": 42,
   "id": "6b6d2252-6d47-4957-952e-951166245788",
   "metadata": {},
   "outputs": [
    {
     "data": {
      "text/plain": [
       "20"
      ]
     },
     "execution_count": 42,
     "metadata": {},
     "output_type": "execute_result"
    }
   ],
   "source": [
    "(24299//60)%24"
   ]
  },
  {
   "cell_type": "code",
   "execution_count": 43,
   "id": "9adcab25-2b9e-42ac-9b7f-5a70f179656b",
   "metadata": {},
   "outputs": [
    {
     "data": {
      "text/plain": [
       "59"
      ]
     },
     "execution_count": 43,
     "metadata": {},
     "output_type": "execute_result"
    }
   ],
   "source": [
    "24299%60"
   ]
  },
  {
   "cell_type": "code",
   "execution_count": 46,
   "id": "2a951d62-0f98-42ee-a3f9-2d57e1653841",
   "metadata": {},
   "outputs": [
    {
     "data": {
      "text/plain": [
       "46"
      ]
     },
     "execution_count": 46,
     "metadata": {},
     "output_type": "execute_result"
    }
   ],
   "source": [
    "1457986%60"
   ]
  },
  {
   "cell_type": "code",
   "execution_count": 1,
   "id": "893095a6-e401-43d8-93ed-5bae61517100",
   "metadata": {},
   "outputs": [
    {
     "data": {
      "text/plain": [
       "'h'"
      ]
     },
     "execution_count": 1,
     "metadata": {},
     "output_type": "execute_result"
    }
   ],
   "source": [
    "a=\"hello\"\n",
    "a[0]"
   ]
  },
  {
   "cell_type": "code",
   "execution_count": null,
   "id": "d9f8a7fb-b618-4aba-95f3-e1972bfafbac",
   "metadata": {},
   "outputs": [],
   "source": [
    "#variable[\"start\":\"stop\":\"step\"]"
   ]
  },
  {
   "cell_type": "code",
   "execution_count": 2,
   "id": "6ccdc3d6-79e9-4581-9dcf-479afac0ff00",
   "metadata": {},
   "outputs": [
    {
     "data": {
      "text/plain": [
       "'012'"
      ]
     },
     "execution_count": 2,
     "metadata": {},
     "output_type": "execute_result"
    }
   ],
   "source": [
    "w=\"0123456789\"\n",
    "w[0:3]"
   ]
  },
  {
   "cell_type": "code",
   "execution_count": 4,
   "id": "66af34de-30c9-45e5-92e5-45151554f84a",
   "metadata": {},
   "outputs": [
    {
     "data": {
      "text/plain": [
       "'02468'"
      ]
     },
     "execution_count": 4,
     "metadata": {},
     "output_type": "execute_result"
    }
   ],
   "source": [
    "w[0:9:2]"
   ]
  },
  {
   "cell_type": "markdown",
   "id": "51da7a2b-f0aa-48e1-9e82-4908901ef22d",
   "metadata": {
    "jp-MarkdownHeadingCollapsed": true
   },
   "source": [
    "m=0123456789\"\n",
    "m[ 3::-1"
   ]
  },
  {
   "cell_type": "code",
   "execution_count": 8,
   "id": "66eb7cee-999f-4502-abfc-0a17b9a31e63",
   "metadata": {},
   "outputs": [
    {
     "data": {
      "text/plain": [
       "'76543210'"
      ]
     },
     "execution_count": 8,
     "metadata": {},
     "output_type": "execute_result"
    }
   ],
   "source": [
    "m=\"0123456789\"\n",
    "m[-3::-1]"
   ]
  },
  {
   "cell_type": "code",
   "execution_count": 22,
   "id": "68119d50-518f-4d16-8408-81da55fee9ba",
   "metadata": {},
   "outputs": [
    {
     "name": "stdout",
     "output_type": "stream",
     "text": [
      "people\n",
      "know any of\n",
      "world\n",
      "are many people in the\n"
     ]
    }
   ],
   "source": [
    "t=\"there are many people in the world but i don't know any of them\"\n",
    "print(t[15:21])\n",
    "print(t[47:58])\n",
    "print(t[29:34])\n",
    "print(t[6:28])"
   ]
  },
  {
   "cell_type": "code",
   "execution_count": 39,
   "id": "03652edc-a21f-4437-addf-e1b9ce8d1062",
   "metadata": {},
   "outputs": [
    {
     "name": "stdout",
     "output_type": "stream",
     "text": [
      "PYTHON@GMAIL.COM\n"
     ]
    }
   ],
   "source": [
    "s=\"hello harry,please meet me @coffee shop or email me @python@gmail.com @11:00 am\"\n",
    "print(s[53:69].upper())"
   ]
  },
  {
   "cell_type": "code",
   "execution_count": 40,
   "id": "d2d50721-41b7-469a-97a3-d0384cab83b3",
   "metadata": {},
   "outputs": [
    {
     "data": {
      "text/plain": [
       "'hello harry,please meet me @coffee shop or email me PYTHON@GMAIL.COM @11:00 am'"
      ]
     },
     "execution_count": 40,
     "metadata": {},
     "output_type": "execute_result"
    }
   ],
   "source": [
    "s.replace(\"@python@gmail.com\",\"PYTHON@GMAIL.COM\")"
   ]
  },
  {
   "cell_type": "code",
   "execution_count": 41,
   "id": "213b8de6-38cf-43be-9f32-4d20b5db3cb0",
   "metadata": {},
   "outputs": [
    {
     "data": {
      "text/plain": [
       "['hello',\n",
       " 'harry,please',\n",
       " 'meet',\n",
       " 'me',\n",
       " '@coffee',\n",
       " 'shop',\n",
       " 'or',\n",
       " 'email',\n",
       " 'me',\n",
       " '@python@gmail.com',\n",
       " '@11:00',\n",
       " 'am']"
      ]
     },
     "execution_count": 41,
     "metadata": {},
     "output_type": "execute_result"
    }
   ],
   "source": [
    "s.split()"
   ]
  },
  {
   "cell_type": "code",
   "execution_count": null,
   "id": "5af44c59-0ed0-4954-87f4-f410285984b3",
   "metadata": {},
   "outputs": [],
   "source": []
  }
 ],
 "metadata": {
  "kernelspec": {
   "display_name": "Python 3 (ipykernel)",
   "language": "python",
   "name": "python3"
  },
  "language_info": {
   "codemirror_mode": {
    "name": "ipython",
    "version": 3
   },
   "file_extension": ".py",
   "mimetype": "text/x-python",
   "name": "python",
   "nbconvert_exporter": "python",
   "pygments_lexer": "ipython3",
   "version": "3.12.4"
  }
 },
 "nbformat": 4,
 "nbformat_minor": 5
}
