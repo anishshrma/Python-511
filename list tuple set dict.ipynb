{
 "cells": [
  {
   "cell_type": "code",
   "execution_count": null,
   "id": "0a2bd747-54df-4f79-8ad0-d38313c9fc81",
   "metadata": {},
   "outputs": [],
   "source": [
    "#list:it is an order collection of element which is mutable and can store all types of data "
   ]
  },
  {
   "cell_type": "code",
   "execution_count": 1,
   "id": "3248271a-a47b-4754-a22c-8a114050eab1",
   "metadata": {},
   "outputs": [
    {
     "data": {
      "text/plain": [
       "list"
      ]
     },
     "execution_count": 1,
     "metadata": {},
     "output_type": "execute_result"
    }
   ],
   "source": [
    "w = []\n",
    "type(w)"
   ]
  },
  {
   "cell_type": "code",
   "execution_count": 4,
   "id": "759cf801-b392-468b-a630-5cb183514437",
   "metadata": {},
   "outputs": [],
   "source": [
    "w = [0,1,2,3,4,56,7,8]"
   ]
  },
  {
   "cell_type": "code",
   "execution_count": 5,
   "id": "2954dfcf-ae57-47de-8625-6250770ebdb5",
   "metadata": {},
   "outputs": [
    {
     "data": {
      "text/plain": [
       "[0, 1, 2, 3, 4, 56, 7, 8]"
      ]
     },
     "execution_count": 5,
     "metadata": {},
     "output_type": "execute_result"
    }
   ],
   "source": [
    "w"
   ]
  },
  {
   "cell_type": "code",
   "execution_count": 6,
   "id": "4cdc6543-5c17-4182-a45d-78cb1110eabd",
   "metadata": {},
   "outputs": [],
   "source": [
    "w.append(88) #to add number in list"
   ]
  },
  {
   "cell_type": "code",
   "execution_count": 7,
   "id": "2260e050-e63e-4905-a3fb-5d76a130585b",
   "metadata": {},
   "outputs": [
    {
     "data": {
      "text/plain": [
       "[0, 1, 2, 3, 4, 56, 7, 8, 88]"
      ]
     },
     "execution_count": 7,
     "metadata": {},
     "output_type": "execute_result"
    }
   ],
   "source": [
    "w"
   ]
  },
  {
   "cell_type": "code",
   "execution_count": 8,
   "id": "34a2421b-5a11-436d-a11d-331971abfc64",
   "metadata": {},
   "outputs": [
    {
     "data": {
      "text/plain": [
       "[1, 1.3, 'string', True, [1, 2, 3, 4]]"
      ]
     },
     "execution_count": 8,
     "metadata": {},
     "output_type": "execute_result"
    }
   ],
   "source": [
    "q=[1,1.3,\"string\",True,[1,2,3,4]]\n",
    "q"
   ]
  },
  {
   "cell_type": "code",
   "execution_count": 9,
   "id": "cee40b07-782e-49bc-86ba-4626c3c6dcda",
   "metadata": {},
   "outputs": [],
   "source": [
    "l1=[0,1,2,3,4,5,6,7,8,9,10]"
   ]
  },
  {
   "cell_type": "code",
   "execution_count": 10,
   "id": "97c2ba9c-aba5-4644-982c-f0b00506d34b",
   "metadata": {},
   "outputs": [
    {
     "data": {
      "text/plain": [
       "11"
      ]
     },
     "execution_count": 10,
     "metadata": {},
     "output_type": "execute_result"
    }
   ],
   "source": [
    "#print the number of element\n",
    "len(l1)"
   ]
  },
  {
   "cell_type": "code",
   "execution_count": 12,
   "id": "9c876e4c-ad0f-4d9b-b23c-33d7b0de27b0",
   "metadata": {},
   "outputs": [
    {
     "data": {
      "text/plain": [
       "1"
      ]
     },
     "execution_count": 12,
     "metadata": {},
     "output_type": "execute_result"
    }
   ],
   "source": [
    "#count the number of given element\n",
    "l1.count(5)"
   ]
  },
  {
   "cell_type": "code",
   "execution_count": 14,
   "id": "b764862e-83b8-422a-87e5-2d231340a776",
   "metadata": {},
   "outputs": [],
   "source": [
    "k1=[1,2,3,4,5,6,7,8]\n"
   ]
  },
  {
   "cell_type": "markdown",
   "id": "61179185-8fed-4127-932c-fdf76efb6858",
   "metadata": {},
   "source": [
    "# add number in list\n",
    "k1.append(34)"
   ]
  },
  {
   "cell_type": "code",
   "execution_count": 18,
   "id": "ca8d188c-39fb-46a5-bda8-3060e61d0006",
   "metadata": {},
   "outputs": [
    {
     "data": {
      "text/plain": [
       "[1, 2, 3, 4, 5, 6, 7, 8, 34, 34]"
      ]
     },
     "execution_count": 18,
     "metadata": {},
     "output_type": "execute_result"
    }
   ],
   "source": [
    "k1"
   ]
  },
  {
   "cell_type": "markdown",
   "id": "ba526051-5ded-4e7e-818a-ee46f20cd241",
   "metadata": {},
   "source": [
    "# it print and remove the last element from the list\n",
    "k1.pop()"
   ]
  },
  {
   "cell_type": "code",
   "execution_count": 22,
   "id": "99cb8f72-b209-4f7c-86d7-9c7f4212b085",
   "metadata": {},
   "outputs": [
    {
     "data": {
      "text/plain": [
       "[1, 2, 3, 4, 5, 6, 7, 8, 34]"
      ]
     },
     "execution_count": 22,
     "metadata": {},
     "output_type": "execute_result"
    }
   ],
   "source": [
    "k1"
   ]
  },
  {
   "cell_type": "code",
   "execution_count": 24,
   "id": "f2f4d7a5-50b1-44fd-a2e1-4fe38ee085bb",
   "metadata": {},
   "outputs": [],
   "source": [
    "#it insert the given element on the given index\n",
    "k1.insert(2,300)"
   ]
  },
  {
   "cell_type": "code",
   "execution_count": 25,
   "id": "c4dbcb41-5968-4f5b-9769-da21d679bb0b",
   "metadata": {},
   "outputs": [
    {
     "data": {
      "text/plain": [
       "[1, 2, 300, 3, 4, 5, 6, 7, 8, 34]"
      ]
     },
     "execution_count": 25,
     "metadata": {},
     "output_type": "execute_result"
    }
   ],
   "source": [
    "k1"
   ]
  },
  {
   "cell_type": "code",
   "execution_count": 26,
   "id": "139ab2f7-b693-4c14-b12e-5a498ffddb51",
   "metadata": {},
   "outputs": [],
   "source": [
    "#it add more than 1 element in the list \n",
    "k1.extend([600,75,45])"
   ]
  },
  {
   "cell_type": "code",
   "execution_count": 27,
   "id": "88f624b1-8925-4286-b81e-7d6c585ad043",
   "metadata": {},
   "outputs": [
    {
     "data": {
      "text/plain": [
       "[1, 2, 300, 3, 4, 5, 6, 7, 8, 34, 600, 75, 45]"
      ]
     },
     "execution_count": 27,
     "metadata": {},
     "output_type": "execute_result"
    }
   ],
   "source": [
    "k1"
   ]
  },
  {
   "cell_type": "code",
   "execution_count": 28,
   "id": "c6c452da-22f8-4e7c-b8d1-88b79bb7aaae",
   "metadata": {},
   "outputs": [],
   "source": [
    "#it remove the given element\n",
    "k1.remove(300)"
   ]
  },
  {
   "cell_type": "code",
   "execution_count": 29,
   "id": "62fd2b31-09e4-490a-92c2-6747f65d6482",
   "metadata": {},
   "outputs": [
    {
     "data": {
      "text/plain": [
       "[1, 2, 3, 4, 5, 6, 7, 8, 34, 600, 75, 45]"
      ]
     },
     "execution_count": 29,
     "metadata": {},
     "output_type": "execute_result"
    }
   ],
   "source": [
    "k1"
   ]
  },
  {
   "cell_type": "code",
   "execution_count": 31,
   "id": "47c40eb9-9300-422d-84a8-452264a3dea7",
   "metadata": {},
   "outputs": [],
   "source": [
    "#it reverse the list\n",
    "k1.reverse()"
   ]
  },
  {
   "cell_type": "code",
   "execution_count": 32,
   "id": "7ca3e502-3914-44ab-9c5a-66a0960912e3",
   "metadata": {},
   "outputs": [
    {
     "data": {
      "text/plain": [
       "[45, 75, 600, 34, 8, 7, 6, 5, 4, 3, 2, 1]"
      ]
     },
     "execution_count": 32,
     "metadata": {},
     "output_type": "execute_result"
    }
   ],
   "source": [
    "k1"
   ]
  },
  {
   "cell_type": "code",
   "execution_count": 33,
   "id": "91a5fd61-a311-4161-907a-229cc2d1a11c",
   "metadata": {},
   "outputs": [],
   "source": [
    "#it short the list in ascending oredr\n",
    "k1.sort()"
   ]
  },
  {
   "cell_type": "code",
   "execution_count": 34,
   "id": "2d0ade73-507f-478d-b707-b46248c2c62c",
   "metadata": {},
   "outputs": [
    {
     "data": {
      "text/plain": [
       "[1, 2, 3, 4, 5, 6, 7, 8, 34, 45, 75, 600]"
      ]
     },
     "execution_count": 34,
     "metadata": {},
     "output_type": "execute_result"
    }
   ],
   "source": [
    "k1"
   ]
  },
  {
   "cell_type": "code",
   "execution_count": 35,
   "id": "610ba7d2-caec-4a8b-8fd9-115322ffc508",
   "metadata": {},
   "outputs": [],
   "source": [
    "#it short the list in descending oredr\n",
    "k1.sort(reverse=True)\n"
   ]
  },
  {
   "cell_type": "code",
   "execution_count": 36,
   "id": "f2655a4f-901f-4db8-a881-bbc2b59da9e5",
   "metadata": {},
   "outputs": [
    {
     "data": {
      "text/plain": [
       "[600, 75, 45, 34, 8, 7, 6, 5, 4, 3, 2, 1]"
      ]
     },
     "execution_count": 36,
     "metadata": {},
     "output_type": "execute_result"
    }
   ],
   "source": [
    "k1"
   ]
  },
  {
   "cell_type": "code",
   "execution_count": 6,
   "id": "72af696f-8870-40b4-bbd7-1233bfb7565c",
   "metadata": {},
   "outputs": [],
   "source": [
    "k2=[1,2,3,4,5,6,7,600,600]"
   ]
  },
  {
   "cell_type": "code",
   "execution_count": 7,
   "id": "bc98b096-ffd7-4aa9-8b77-769e30b73b92",
   "metadata": {},
   "outputs": [
    {
     "data": {
      "text/plain": [
       "7"
      ]
     },
     "execution_count": 7,
     "metadata": {},
     "output_type": "execute_result"
    }
   ],
   "source": [
    "k2.index(600,1)"
   ]
  },
  {
   "cell_type": "code",
   "execution_count": null,
   "id": "e4b7de14-051c-4241-83e5-5d8f1cff307a",
   "metadata": {},
   "outputs": [],
   "source": [
    "#to make the copy of list\n",
    "k2.copy()"
   ]
  },
  {
   "cell_type": "code",
   "execution_count": 10,
   "id": "7f70ef85-f895-4e36-b7e9-c0c05e354062",
   "metadata": {},
   "outputs": [],
   "source": [
    "q=[1,2,3,\"string\",True,[1,2,3,4,\"new\",False]]"
   ]
  },
  {
   "cell_type": "code",
   "execution_count": 11,
   "id": "9842ddef-38a9-4e1f-ae8e-4d50f820db94",
   "metadata": {},
   "outputs": [],
   "source": [
    "q[4]=False"
   ]
  },
  {
   "cell_type": "code",
   "execution_count": 12,
   "id": "eab39666-fab2-4f6b-8354-13cfe42bbfd6",
   "metadata": {},
   "outputs": [
    {
     "data": {
      "text/plain": [
       "[1, 2, 3, 'string', False, [1, 2, 3, 4, 'new', False]]"
      ]
     },
     "execution_count": 12,
     "metadata": {},
     "output_type": "execute_result"
    }
   ],
   "source": [
    "q"
   ]
  },
  {
   "cell_type": "code",
   "execution_count": 16,
   "id": "2212c6da-19cc-40c5-ac4c-96119ef41ac8",
   "metadata": {},
   "outputs": [
    {
     "data": {
      "text/plain": [
       "[1, 2, 3, 4, 'new', False]"
      ]
     },
     "execution_count": 16,
     "metadata": {},
     "output_type": "execute_result"
    }
   ],
   "source": [
    "q[-1]"
   ]
  },
  {
   "cell_type": "code",
   "execution_count": 18,
   "id": "7d421d9a-2f0a-42a6-a9cd-17692ff830c2",
   "metadata": {},
   "outputs": [
    {
     "data": {
      "text/plain": [
       "'new'"
      ]
     },
     "execution_count": 18,
     "metadata": {},
     "output_type": "execute_result"
    }
   ],
   "source": [
    "#variable[start:stop:step]\n",
    "q[-1][4]"
   ]
  },
  {
   "cell_type": "code",
   "execution_count": 26,
   "id": "c39925b8-c751-4228-ac80-ef2da3c59d5b",
   "metadata": {},
   "outputs": [],
   "source": [
    "q[3]=45"
   ]
  },
  {
   "cell_type": "code",
   "execution_count": 27,
   "id": "c1a800d3-7430-42d3-98c2-fc8cf04498eb",
   "metadata": {},
   "outputs": [
    {
     "data": {
      "text/plain": [
       "[1, 2, 3, 45, False, [1, 2, 3, 4, 'new', False], 3]"
      ]
     },
     "execution_count": 27,
     "metadata": {},
     "output_type": "execute_result"
    }
   ],
   "source": [
    "q"
   ]
  },
  {
   "cell_type": "code",
   "execution_count": 28,
   "id": "718abbeb-8e4a-410f-a3c6-f93148742448",
   "metadata": {},
   "outputs": [],
   "source": [
    "r=[4,5,7,[4,2,0,3,5,\"todey\",4],478,\"string\"]"
   ]
  },
  {
   "cell_type": "code",
   "execution_count": 1,
   "id": "e8d63f59-d210-49db-ac52-f70fee9496b3",
   "metadata": {},
   "outputs": [],
   "source": [
    "s=\"hello\""
   ]
  },
  {
   "cell_type": "code",
   "execution_count": 3,
   "id": "d6b90823-527c-4414-a32d-12ce9b1db5dd",
   "metadata": {},
   "outputs": [
    {
     "data": {
      "text/plain": [
       "{'name': 'anish', 'age': 20}"
      ]
     },
     "execution_count": 3,
     "metadata": {},
     "output_type": "execute_result"
    }
   ],
   "source": [
    "s={\"name\":\"anish\",\"age\":20}\n",
    "s"
   ]
  },
  {
   "cell_type": "code",
   "execution_count": null,
   "id": "d79d2bf4-2a2c-44e4-bed7-7a2ce0715355",
   "metadata": {},
   "outputs": [],
   "source": []
  }
 ],
 "metadata": {
  "kernelspec": {
   "display_name": "Python 3 (ipykernel)",
   "language": "python",
   "name": "python3"
  },
  "language_info": {
   "codemirror_mode": {
    "name": "ipython",
    "version": 3
   },
   "file_extension": ".py",
   "mimetype": "text/x-python",
   "name": "python",
   "nbconvert_exporter": "python",
   "pygments_lexer": "ipython3",
   "version": "3.12.4"
  }
 },
 "nbformat": 4,
 "nbformat_minor": 5
}
